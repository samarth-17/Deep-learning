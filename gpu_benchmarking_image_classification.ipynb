{
  "nbformat": 4,
  "nbformat_minor": 0,
  "metadata": {
    "colab": {
      "provenance": [],
      "gpuType": "T4"
    },
    "kernelspec": {
      "name": "python3",
      "display_name": "Python 3"
    },
    "language_info": {
      "name": "python"
    },
    "accelerator": "GPU"
  },
  "cells": [
    {
      "cell_type": "code",
      "execution_count": 1,
      "metadata": {
        "id": "KhiaU52XnP1i"
      },
      "outputs": [],
      "source": [
        "import tensorflow as tf\n",
        "from tensorflow import keras\n",
        "import matplotlib.pyplot as plt\n",
        "import numpy as np"
      ]
    },
    {
      "cell_type": "code",
      "source": [
        "tf.config.experimental.list_physical_devices"
      ],
      "metadata": {
        "colab": {
          "base_uri": "https://localhost:8080/",
          "height": 187
        },
        "id": "deZNc2X_nSFw",
        "outputId": "e023797f-8e29-4142-ca59-02790962baf9"
      },
      "execution_count": 2,
      "outputs": [
        {
          "output_type": "execute_result",
          "data": {
            "text/plain": [
              "<function tensorflow.python.framework.config.list_physical_devices(device_type=None)>"
            ],
            "text/html": [
              "<div style=\"max-width:800px; border: 1px solid var(--colab-border-color);\"><style>\n",
              "      pre.function-repr-contents {\n",
              "        overflow-x: auto;\n",
              "        padding: 8px 12px;\n",
              "        max-height: 500px;\n",
              "      }\n",
              "\n",
              "      pre.function-repr-contents.function-repr-contents-collapsed {\n",
              "        cursor: pointer;\n",
              "        max-height: 100px;\n",
              "      }\n",
              "    </style>\n",
              "    <pre style=\"white-space: initial; background:\n",
              "         var(--colab-secondary-surface-color); padding: 8px 12px;\n",
              "         border-bottom: 1px solid var(--colab-border-color);\"><b>tensorflow.python.framework.config.list_physical_devices</b><br/>def list_physical_devices(device_type=None)</pre><pre class=\"function-repr-contents function-repr-contents-collapsed\" style=\"\"><a class=\"filepath\" style=\"display:none\" href=\"#\">/usr/local/lib/python3.10/dist-packages/tensorflow/python/framework/config.py</a>Return a list of physical devices visible to the host runtime.\n",
              "\n",
              "Physical devices are hardware devices present on the host machine. By default\n",
              "all discovered CPU and GPU devices are considered visible.\n",
              "\n",
              "This API allows querying the physical hardware resources prior to runtime\n",
              "initialization. Thus, giving an opportunity to call any additional\n",
              "configuration APIs. This is in contrast to `tf.config.list_logical_devices`,\n",
              "which triggers runtime initialization in order to list the configured devices.\n",
              "\n",
              "The following example lists the number of visible GPUs on the host.\n",
              "\n",
              "&gt;&gt;&gt; physical_devices = tf.config.list_physical_devices(&#x27;GPU&#x27;)\n",
              "&gt;&gt;&gt; print(&quot;Num GPUs:&quot;, len(physical_devices))\n",
              "Num GPUs: ...\n",
              "\n",
              "However, the number of GPUs available to the runtime may change during runtime\n",
              "initialization due to marking certain devices as not visible or configuring\n",
              "multiple logical devices.\n",
              "\n",
              "Args:\n",
              "  device_type: (optional string) Only include devices matching this device\n",
              "    type. For example &quot;CPU&quot; or &quot;GPU&quot;.\n",
              "  Notes: 1. If provided with any numerical values or any string other than\n",
              "    supported device type such as &#x27;CPU&#x27; it returns an empty list instead of\n",
              "    raising error. 2. For default value it returns all physical devices\n",
              "\n",
              "Returns:\n",
              "  List of discovered `tf.config.PhysicalDevice` objects</pre>\n",
              "      <script>\n",
              "      if (google.colab.kernel.accessAllowed && google.colab.files && google.colab.files.view) {\n",
              "        for (const element of document.querySelectorAll('.filepath')) {\n",
              "          element.style.display = 'block'\n",
              "          element.onclick = (event) => {\n",
              "            event.preventDefault();\n",
              "            event.stopPropagation();\n",
              "            google.colab.files.view(element.textContent, 424);\n",
              "          };\n",
              "        }\n",
              "      }\n",
              "      for (const element of document.querySelectorAll('.function-repr-contents')) {\n",
              "        element.onclick = (event) => {\n",
              "          event.preventDefault();\n",
              "          event.stopPropagation();\n",
              "          element.classList.toggle('function-repr-contents-collapsed');\n",
              "        };\n",
              "      }\n",
              "      </script>\n",
              "      </div>"
            ]
          },
          "metadata": {},
          "execution_count": 2
        }
      ]
    },
    {
      "cell_type": "code",
      "source": [
        "(X_train,y_train), (X_test,y_test)=tf.keras.datasets.cifar10.load_data()"
      ],
      "metadata": {
        "colab": {
          "base_uri": "https://localhost:8080/"
        },
        "id": "iKnBhEYcnbdK",
        "outputId": "8dc098e7-058d-4489-f158-cda3b80101e4"
      },
      "execution_count": 3,
      "outputs": [
        {
          "output_type": "stream",
          "name": "stdout",
          "text": [
            "Downloading data from https://www.cs.toronto.edu/~kriz/cifar-10-python.tar.gz\n",
            "170498071/170498071 [==============================] - 3s 0us/step\n"
          ]
        }
      ]
    },
    {
      "cell_type": "code",
      "source": [
        "X_train.shape"
      ],
      "metadata": {
        "colab": {
          "base_uri": "https://localhost:8080/"
        },
        "id": "DwYGZ9sFnddV",
        "outputId": "76398494-edad-4ced-920d-ec8b90bed70c"
      },
      "execution_count": 4,
      "outputs": [
        {
          "output_type": "execute_result",
          "data": {
            "text/plain": [
              "(50000, 32, 32, 3)"
            ]
          },
          "metadata": {},
          "execution_count": 4
        }
      ]
    },
    {
      "cell_type": "markdown",
      "source": [
        "we have 50000 image each of size 32 32 and 3 where 3 is RGB"
      ],
      "metadata": {
        "id": "eLdEQ186njDy"
      }
    },
    {
      "cell_type": "code",
      "source": [
        "def plot_sample(index):\n",
        "  plt.figure(figsize=(10,1))\n",
        "  plt.imshow(X_train[index])"
      ],
      "metadata": {
        "id": "qDCCKfG6nfXr"
      },
      "execution_count": 5,
      "outputs": []
    },
    {
      "cell_type": "markdown",
      "source": [],
      "metadata": {
        "id": "YgMlik6-nhkM"
      }
    },
    {
      "cell_type": "code",
      "source": [
        "plot_sample(0)"
      ],
      "metadata": {
        "colab": {
          "base_uri": "https://localhost:8080/",
          "height": 142
        },
        "id": "q7e4VO96nnIf",
        "outputId": "2689084f-471d-4db0-d460-0a4def0d3e25"
      },
      "execution_count": 6,
      "outputs": [
        {
          "output_type": "display_data",
          "data": {
            "text/plain": [
              "<Figure size 1000x100 with 1 Axes>"
            ],
            "image/png": "[encoded data removed]"
          },
          "metadata": {}
        }
      ]
    },
    {
      "cell_type": "markdown",
      "source": [
        "It is small image of frog we make a function to plot images"
      ],
      "metadata": {
        "id": "E9qMrkCEnpPS"
      }
    },
    {
      "cell_type": "code",
      "source": [
        "plot_sample(1)"
      ],
      "metadata": {
        "colab": {
          "base_uri": "https://localhost:8080/",
          "height": 142
        },
        "id": "bgrZGxqKnnwa",
        "outputId": "adac0da0-12b6-469c-a1fa-3d08b1a7a99d"
      },
      "execution_count": 7,
      "outputs": [
        {
          "output_type": "display_data",
          "data": {
            "text/plain": [
              "<Figure size 1000x100 with 1 Axes>"
            ],
            "image/png": "[encoded data removed]"
          },
          "metadata": {}
        }
      ]
    },
    {
      "cell_type": "code",
      "source": [
        "classes=[\"airplane\",\"automobile\",\"bird\",\"cat\",\"deer\",\"dog\",\"frog\",\"horse\",\"ship\",\"truck\"]"
      ],
      "metadata": {
        "id": "n75OG7cHntyc"
      },
      "execution_count": 8,
      "outputs": []
    },
    {
      "cell_type": "markdown",
      "source": [
        "Now we see the y_train images or what images in y_train index"
      ],
      "metadata": {
        "id": "5WWnUNYqn7_Y"
      }
    },
    {
      "cell_type": "code",
      "source": [
        "y_train[3]"
      ],
      "metadata": {
        "colab": {
          "base_uri": "https://localhost:8080/"
        },
        "id": "WJ9XNOMLn3vg",
        "outputId": "8debd9d4-b059-43b3-87c2-3e50784717f8"
      },
      "execution_count": 9,
      "outputs": [
        {
          "output_type": "execute_result",
          "data": {
            "text/plain": [
              "array([4], dtype=uint8)"
            ]
          },
          "metadata": {},
          "execution_count": 9
        }
      ]
    },
    {
      "cell_type": "code",
      "source": [
        "# classes[y_train[3]]\n"
      ],
      "metadata": {
        "id": "p9weazo3n5Xi"
      },
      "execution_count": null,
      "outputs": []
    },
    {
      "cell_type": "markdown",
      "source": [
        "The error message TypeError: only integer scalar arrays can be converted to a scalar index indicates that the y_train[3] is not an integer. Looking at the global variables, y_train is an ndarray, which means that y_train[3] is a 1-dimensional array. To access the value at index 3, we need to convert it to an integer. This can be done using the int() function.\n",
        "\n",
        "Therefore, the corrected code should be:"
      ],
      "metadata": {
        "id": "hr4GxJ_gn_O7"
      }
    },
    {
      "cell_type": "code",
      "source": [
        "classes [y_train[3][0]] #or classes[int(y_train[3])]"
      ],
      "metadata": {
        "colab": {
          "base_uri": "https://localhost:8080/",
          "height": 35
        },
        "id": "zfWw87LAoBH8",
        "outputId": "3d4c3256-f6dd-4b54-82d4-2643f0262166"
      },
      "execution_count": 10,
      "outputs": [
        {
          "output_type": "execute_result",
          "data": {
            "text/plain": [
              "'deer'"
            ],
            "application/vnd.google.colaboratory.intrinsic+json": {
              "type": "string"
            }
          },
          "metadata": {},
          "execution_count": 10
        }
      ]
    },
    {
      "cell_type": "code",
      "source": [
        "X_train[0]"
      ],
      "metadata": {
        "colab": {
          "base_uri": "https://localhost:8080/",
          "height": 72
        },
        "id": "RLEhpIUSoDEm",
        "outputId": "2952efd1-dcb9-4d5f-dae7-41fe4a6537b3"
      },
      "execution_count": 11,
      "outputs": [
        {
          "output_type": "execute_result",
          "data": {
            "text/plain": [
              "array([[[ 59,  62,  63],\n",
              "        [ 43,  46,  45],\n",
              "        [ 50,  48,  43],\n",
              "        ...,\n",
              "        [158, 132, 108],\n",
              "        [152, 125, 102],\n",
              "        [148, 124, 103]],\n",
              "\n",
              "       [[ 16,  20,  20],\n",
              "        [  0,   0,   0],\n",
              "        [ 18,   8,   0],\n",
              "        ...,\n",
              "        [123,  88,  55],\n",
              "        [119,  83,  50],\n",
              "        [122,  87,  57]],\n",
              "\n",
              "       [[ 25,  24,  21],\n",
              "        [ 16,   7,   0],\n",
              "        [ 49,  27,   8],\n",
              "        ...,\n",
              "        [118,  84,  50],\n",
              "        [120,  84,  50],\n",
              "        [109,  73,  42]],\n",
              "\n",
              "       ...,\n",
              "\n",
              "       [[208, 170,  96],\n",
              "        [201, 153,  34],\n",
              "        [198, 161,  26],\n",
              "        ...,\n",
              "        [160, 133,  70],\n",
              "        [ 56,  31,   7],\n",
              "        [ 53,  34,  20]],\n",
              "\n",
              "       [[180, 139,  96],\n",
              "        [173, 123,  42],\n",
              "        [186, 144,  30],\n",
              "        ...,\n",
              "        [184, 148,  94],\n",
              "        [ 97,  62,  34],\n",
              "        [ 83,  53,  34]],\n",
              "\n",
              "       [[177, 144, 116],\n",
              "        [168, 129,  94],\n",
              "        [179, 142,  87],\n",
              "        ...,\n",
              "        [216, 184, 140],\n",
              "        [151, 118,  84],\n",
              "        [123,  92,  72]]], dtype=uint8)"
            ],
            "text/html": [
              "<style>\n",
              "      .ndarray_repr .ndarray_raw_data {\n",
              "        display: none;\n",
              "      }\n",
              "      .ndarray_repr.show_array .ndarray_raw_data {\n",
              "        display: block;\n",
              "      }\n",
              "      .ndarray_repr.show_array .ndarray_image_preview {\n",
              "        display: none;\n",
              "      }\n",
              "      </style>\n",
              "      <div id=\"id-885612a6-bea8-4799-a800-c9bed477c31b\" class=\"ndarray_repr\"><pre>ndarray (32, 32, 3) <button style=\"padding: 0 2px;\">show data</button></pre><img src=\"data:image/png;base64,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\" class=\"ndarray_image_preview\" /><pre class=\"ndarray_raw_data\">array([[[ 59,  62,  63],\n",
              "        [ 43,  46,  45],\n",
              "        [ 50,  48,  43],\n",
              "        ...,\n",
              "        [158, 132, 108],\n",
              "        [152, 125, 102],\n",
              "        [148, 124, 103]],\n",
              "\n",
              "       [[ 16,  20,  20],\n",
              "        [  0,   0,   0],\n",
              "        [ 18,   8,   0],\n",
              "        ...,\n",
              "        [123,  88,  55],\n",
              "        [119,  83,  50],\n",
              "        [122,  87,  57]],\n",
              "\n",
              "       [[ 25,  24,  21],\n",
              "        [ 16,   7,   0],\n",
              "        [ 49,  27,   8],\n",
              "        ...,\n",
              "        [118,  84,  50],\n",
              "        [120,  84,  50],\n",
              "        [109,  73,  42]],\n",
              "\n",
              "       ...,\n",
              "\n",
              "       [[208, 170,  96],\n",
              "        [201, 153,  34],\n",
              "        [198, 161,  26],\n",
              "        ...,\n",
              "        [160, 133,  70],\n",
              "        [ 56,  31,   7],\n",
              "        [ 53,  34,  20]],\n",
              "\n",
              "       [[180, 139,  96],\n",
              "        [173, 123,  42],\n",
              "        [186, 144,  30],\n",
              "        ...,\n",
              "        [184, 148,  94],\n",
              "        [ 97,  62,  34],\n",
              "        [ 83,  53,  34]],\n",
              "\n",
              "       [[177, 144, 116],\n",
              "        [168, 129,  94],\n",
              "        [179, 142,  87],\n",
              "        ...,\n",
              "        [216, 184, 140],\n",
              "        [151, 118,  84],\n",
              "        [123,  92,  72]]], dtype=uint8)</pre></div><script>\n",
              "      (() => {\n",
              "      const titles = ['show data', 'hide data'];\n",
              "      let index = 0\n",
              "      document.querySelector('#id-885612a6-bea8-4799-a800-c9bed477c31b button').onclick = (e) => {\n",
              "        document.querySelector('#id-885612a6-bea8-4799-a800-c9bed477c31b').classList.toggle('show_array');\n",
              "        index = (++index) % 2;\n",
              "        document.querySelector('#id-885612a6-bea8-4799-a800-c9bed477c31b button').textContent = titles[index];\n",
              "        e.preventDefault();\n",
              "        e.stopPropagation();\n",
              "      }\n",
              "      })();\n",
              "    </script>"
            ]
          },
          "metadata": {},
          "execution_count": 11
        }
      ]
    },
    {
      "cell_type": "code",
      "source": [
        "X_train_scaled=X_train/255\n",
        "X_test_scaled=X_test/255\n"
      ],
      "metadata": {
        "id": "b_ZW9jg-oEuK"
      },
      "execution_count": 12,
      "outputs": []
    },
    {
      "cell_type": "code",
      "source": [
        "X_train_scaled[0]"
      ],
      "metadata": {
        "colab": {
          "base_uri": "https://localhost:8080/"
        },
        "id": "0gzLmPE5oGMy",
        "outputId": "8c0f4499-d0d0-4ffa-c64b-a9e891db5bb5"
      },
      "execution_count": 13,
      "outputs": [
        {
          "output_type": "execute_result",
          "data": {
            "text/plain": [
              "array([[[0.23137255, 0.24313725, 0.24705882],\n",
              "        [0.16862745, 0.18039216, 0.17647059],\n",
              "        [0.19607843, 0.18823529, 0.16862745],\n",
              "        ...,\n",
              "        [0.61960784, 0.51764706, 0.42352941],\n",
              "        [0.59607843, 0.49019608, 0.4       ],\n",
              "        [0.58039216, 0.48627451, 0.40392157]],\n",
              "\n",
              "       [[0.0627451 , 0.07843137, 0.07843137],\n",
              "        [0.        , 0.        , 0.        ],\n",
              "        [0.07058824, 0.03137255, 0.        ],\n",
              "        ...,\n",
              "        [0.48235294, 0.34509804, 0.21568627],\n",
              "        [0.46666667, 0.3254902 , 0.19607843],\n",
              "        [0.47843137, 0.34117647, 0.22352941]],\n",
              "\n",
              "       [[0.09803922, 0.09411765, 0.08235294],\n",
              "        [0.0627451 , 0.02745098, 0.        ],\n",
              "        [0.19215686, 0.10588235, 0.03137255],\n",
              "        ...,\n",
              "        [0.4627451 , 0.32941176, 0.19607843],\n",
              "        [0.47058824, 0.32941176, 0.19607843],\n",
              "        [0.42745098, 0.28627451, 0.16470588]],\n",
              "\n",
              "       ...,\n",
              "\n",
              "       [[0.81568627, 0.66666667, 0.37647059],\n",
              "        [0.78823529, 0.6       , 0.13333333],\n",
              "        [0.77647059, 0.63137255, 0.10196078],\n",
              "        ...,\n",
              "        [0.62745098, 0.52156863, 0.2745098 ],\n",
              "        [0.21960784, 0.12156863, 0.02745098],\n",
              "        [0.20784314, 0.13333333, 0.07843137]],\n",
              "\n",
              "       [[0.70588235, 0.54509804, 0.37647059],\n",
              "        [0.67843137, 0.48235294, 0.16470588],\n",
              "        [0.72941176, 0.56470588, 0.11764706],\n",
              "        ...,\n",
              "        [0.72156863, 0.58039216, 0.36862745],\n",
              "        [0.38039216, 0.24313725, 0.13333333],\n",
              "        [0.3254902 , 0.20784314, 0.13333333]],\n",
              "\n",
              "       [[0.69411765, 0.56470588, 0.45490196],\n",
              "        [0.65882353, 0.50588235, 0.36862745],\n",
              "        [0.70196078, 0.55686275, 0.34117647],\n",
              "        ...,\n",
              "        [0.84705882, 0.72156863, 0.54901961],\n",
              "        [0.59215686, 0.4627451 , 0.32941176],\n",
              "        [0.48235294, 0.36078431, 0.28235294]]])"
            ]
          },
          "metadata": {},
          "execution_count": 13
        }
      ]
    },
    {
      "cell_type": "code",
      "source": [
        "y_train[:5]"
      ],
      "metadata": {
        "colab": {
          "base_uri": "https://localhost:8080/"
        },
        "id": "1RSKeQsUoHoE",
        "outputId": "d68bd2e8-875d-481b-c8e8-d07bd5deda8e"
      },
      "execution_count": 14,
      "outputs": [
        {
          "output_type": "execute_result",
          "data": {
            "text/plain": [
              "array([[6],\n",
              "       [9],\n",
              "       [9],\n",
              "       [4],\n",
              "       [1]], dtype=uint8)"
            ]
          },
          "metadata": {},
          "execution_count": 14
        }
      ]
    },
    {
      "cell_type": "code",
      "source": [
        "#for to cateogricl keras provide us with api\n",
        "y_train_categorical=keras.utils.to_categorical(\n",
        "    y_train,num_classes=10 , dtype='float32'\n",
        ")\n",
        "\n",
        "y_train_categorical[:5]"
      ],
      "metadata": {
        "colab": {
          "base_uri": "https://localhost:8080/"
        },
        "id": "9NylGCdzoJuG",
        "outputId": "b08ae79a-3152-4b0d-97ec-57173448bca0"
      },
      "execution_count": 15,
      "outputs": [
        {
          "output_type": "execute_result",
          "data": {
            "text/plain": [
              "array([[0., 0., 0., 0., 0., 0., 1., 0., 0., 0.],\n",
              "       [0., 0., 0., 0., 0., 0., 0., 0., 0., 1.],\n",
              "       [0., 0., 0., 0., 0., 0., 0., 0., 0., 1.],\n",
              "       [0., 0., 0., 0., 1., 0., 0., 0., 0., 0.],\n",
              "       [0., 1., 0., 0., 0., 0., 0., 0., 0., 0.]], dtype=float32)"
            ]
          },
          "metadata": {},
          "execution_count": 15
        }
      ]
    },
    {
      "cell_type": "code",
      "source": [
        "y_test_categorical=keras.utils.to_categorical(\n",
        "    y_test,num_classes=10 , dtype='float32'\n",
        ")\n"
      ],
      "metadata": {
        "id": "-YWI3go9oLwM"
      },
      "execution_count": 16,
      "outputs": []
    },
    {
      "cell_type": "markdown",
      "source": [
        "# **MODEL BUILDUING**"
      ],
      "metadata": {
        "id": "PGPtzUrAoP9F"
      }
    },
    {
      "cell_type": "code",
      "source": [
        "model=keras.Sequential([\n",
        "    keras.layers.Flatten(input_shape=(32,32,3)),\n",
        "    keras.layers.Dense(3000,activation='relu'),\n",
        "    keras.layers.Dense(1000,activation='relu'),\n",
        "    keras.layers.Dense(10, activation='sigmoid')#sigmoid is good with clssification if not specify then it use Linear\n",
        "])\n",
        "\n",
        "model.compile(optimizer='SGD' , loss='categorical_crossentropy',\n",
        "              metrics=['accuracy'])\n",
        "model.fit(X_train_scaled , y_train_categorical,epochs=70)"
      ],
      "metadata": {
        "colab": {
          "base_uri": "https://localhost:8080/"
        },
        "id": "3KyEUyLyoNWB",
        "outputId": "e9c684c8-e418-4fb6-9f7b-a926fc9635bc"
      },
      "execution_count": 17,
      "outputs": [
        {
          "output_type": "stream",
          "name": "stdout",
          "text": [
            "Epoch 1/70\n",
            "1563/1563 [==============================] - 9s 5ms/step - loss: 1.8120 - accuracy: 0.3529\n",
            "Epoch 2/70\n",
            "1563/1563 [==============================] - 7s 5ms/step - loss: 1.6239 - accuracy: 0.4278\n",
            "Epoch 3/70\n",
            "1563/1563 [==============================] - 7s 5ms/step - loss: 1.5431 - accuracy: 0.4550\n",
            "Epoch 4/70\n",
            "1563/1563 [==============================] - 7s 5ms/step - loss: 1.4835 - accuracy: 0.4773\n",
            "Epoch 5/70\n",
            "1563/1563 [==============================] - 7s 5ms/step - loss: 1.4354 - accuracy: 0.4946\n",
            "Epoch 6/70\n",
            "1563/1563 [==============================] - 7s 5ms/step - loss: 1.3907 - accuracy: 0.5119\n",
            "Epoch 7/70\n",
            "1563/1563 [==============================] - 8s 5ms/step - loss: 1.3527 - accuracy: 0.5241\n",
            "Epoch 8/70\n",
            "1563/1563 [==============================] - 8s 5ms/step - loss: 1.3156 - accuracy: 0.5379\n",
            "Epoch 9/70\n",
            "1563/1563 [==============================] - 7s 5ms/step - loss: 1.2849 - accuracy: 0.5519\n",
            "Epoch 10/70\n",
            "1563/1563 [==============================] - 8s 5ms/step - loss: 1.2527 - accuracy: 0.5585\n",
            "Epoch 11/70\n",
            "1563/1563 [==============================] - 8s 5ms/step - loss: 1.2233 - accuracy: 0.5723\n",
            "Epoch 12/70\n",
            "1563/1563 [==============================] - 7s 5ms/step - loss: 1.1968 - accuracy: 0.5816\n",
            "Epoch 13/70\n",
            "1563/1563 [==============================] - 7s 5ms/step - loss: 1.1666 - accuracy: 0.5924\n",
            "Epoch 14/70\n",
            "1563/1563 [==============================] - 7s 5ms/step - loss: 1.1416 - accuracy: 0.6023\n",
            "Epoch 15/70\n",
            "1563/1563 [==============================] - 7s 5ms/step - loss: 1.1097 - accuracy: 0.6139\n",
            "Epoch 16/70\n",
            "1563/1563 [==============================] - 7s 5ms/step - loss: 1.0875 - accuracy: 0.6210\n",
            "Epoch 17/70\n",
            "1563/1563 [==============================] - 7s 5ms/step - loss: 1.0599 - accuracy: 0.6312\n",
            "Epoch 18/70\n",
            "1563/1563 [==============================] - 8s 5ms/step - loss: 1.0325 - accuracy: 0.6412\n",
            "Epoch 19/70\n",
            "1563/1563 [==============================] - 7s 5ms/step - loss: 1.0070 - accuracy: 0.6493\n",
            "Epoch 20/70\n",
            "1563/1563 [==============================] - 7s 5ms/step - loss: 0.9836 - accuracy: 0.6611\n",
            "Epoch 21/70\n",
            "1563/1563 [==============================] - 7s 5ms/step - loss: 0.9572 - accuracy: 0.6688\n",
            "Epoch 22/70\n",
            "1563/1563 [==============================] - 7s 5ms/step - loss: 0.9323 - accuracy: 0.6777\n",
            "Epoch 23/70\n",
            "1563/1563 [==============================] - 8s 5ms/step - loss: 0.9046 - accuracy: 0.6878\n",
            "Epoch 24/70\n",
            "1563/1563 [==============================] - 7s 5ms/step - loss: 0.8792 - accuracy: 0.6944\n",
            "Epoch 25/70\n",
            "1563/1563 [==============================] - 7s 5ms/step - loss: 0.8542 - accuracy: 0.7027\n",
            "Epoch 26/70\n",
            "1563/1563 [==============================] - 7s 5ms/step - loss: 0.8293 - accuracy: 0.7134\n",
            "Epoch 27/70\n",
            "1563/1563 [==============================] - 7s 5ms/step - loss: 0.8058 - accuracy: 0.7254\n",
            "Epoch 28/70\n",
            "1563/1563 [==============================] - 7s 5ms/step - loss: 0.7791 - accuracy: 0.7355\n",
            "Epoch 29/70\n",
            "1563/1563 [==============================] - 8s 5ms/step - loss: 0.7543 - accuracy: 0.7419\n",
            "Epoch 30/70\n",
            "1563/1563 [==============================] - 7s 5ms/step - loss: 0.7275 - accuracy: 0.7534\n",
            "Epoch 31/70\n",
            "1563/1563 [==============================] - 8s 5ms/step - loss: 0.7063 - accuracy: 0.7593\n",
            "Epoch 32/70\n",
            "1563/1563 [==============================] - 7s 5ms/step - loss: 0.6798 - accuracy: 0.7701\n",
            "Epoch 33/70\n",
            "1563/1563 [==============================] - 7s 5ms/step - loss: 0.6531 - accuracy: 0.7808\n",
            "Epoch 34/70\n",
            "1563/1563 [==============================] - 8s 5ms/step - loss: 0.6310 - accuracy: 0.7873\n",
            "Epoch 35/70\n",
            "1563/1563 [==============================] - 7s 5ms/step - loss: 0.6059 - accuracy: 0.7972\n",
            "Epoch 36/70\n",
            "1563/1563 [==============================] - 7s 5ms/step - loss: 0.5799 - accuracy: 0.8069\n",
            "Epoch 37/70\n",
            "1563/1563 [==============================] - 7s 5ms/step - loss: 0.5582 - accuracy: 0.8137\n",
            "Epoch 38/70\n",
            "1563/1563 [==============================] - 7s 5ms/step - loss: 0.5310 - accuracy: 0.8253\n",
            "Epoch 39/70\n",
            "1563/1563 [==============================] - 8s 5ms/step - loss: 0.5119 - accuracy: 0.8303\n",
            "Epoch 40/70\n",
            "1563/1563 [==============================] - 8s 5ms/step - loss: 0.4919 - accuracy: 0.8395\n",
            "Epoch 41/70\n",
            "1563/1563 [==============================] - 8s 5ms/step - loss: 0.4666 - accuracy: 0.8486\n",
            "Epoch 42/70\n",
            "1563/1563 [==============================] - 8s 5ms/step - loss: 0.4435 - accuracy: 0.8559\n",
            "Epoch 43/70\n",
            "1563/1563 [==============================] - 8s 5ms/step - loss: 0.4245 - accuracy: 0.8638\n",
            "Epoch 44/70\n",
            "1563/1563 [==============================] - 8s 5ms/step - loss: 0.4063 - accuracy: 0.8713\n",
            "Epoch 45/70\n",
            "1563/1563 [==============================] - 8s 5ms/step - loss: 0.3853 - accuracy: 0.8781\n",
            "Epoch 46/70\n",
            "1563/1563 [==============================] - 10s 7ms/step - loss: 0.3644 - accuracy: 0.8867\n",
            "Epoch 47/70\n",
            "1563/1563 [==============================] - 8s 5ms/step - loss: 0.3449 - accuracy: 0.8932\n",
            "Epoch 48/70\n",
            "1563/1563 [==============================] - 8s 5ms/step - loss: 0.3241 - accuracy: 0.9028\n",
            "Epoch 49/70\n",
            "1563/1563 [==============================] - 8s 5ms/step - loss: 0.3126 - accuracy: 0.9050\n",
            "Epoch 50/70\n",
            "1563/1563 [==============================] - 8s 5ms/step - loss: 0.2950 - accuracy: 0.9109\n",
            "Epoch 51/70\n",
            "1563/1563 [==============================] - 8s 5ms/step - loss: 0.2808 - accuracy: 0.9146\n",
            "Epoch 52/70\n",
            "1563/1563 [==============================] - 8s 5ms/step - loss: 0.2602 - accuracy: 0.9247\n",
            "Epoch 53/70\n",
            "1563/1563 [==============================] - 8s 5ms/step - loss: 0.2467 - accuracy: 0.9273\n",
            "Epoch 54/70\n",
            "1563/1563 [==============================] - 8s 5ms/step - loss: 0.2339 - accuracy: 0.9326\n",
            "Epoch 55/70\n",
            "1563/1563 [==============================] - 8s 5ms/step - loss: 0.2176 - accuracy: 0.9395\n",
            "Epoch 56/70\n",
            "1563/1563 [==============================] - 8s 5ms/step - loss: 0.2057 - accuracy: 0.9430\n",
            "Epoch 57/70\n",
            "1563/1563 [==============================] - 8s 5ms/step - loss: 0.1888 - accuracy: 0.9497\n",
            "Epoch 58/70\n",
            "1563/1563 [==============================] - 8s 5ms/step - loss: 0.1762 - accuracy: 0.9533\n",
            "Epoch 59/70\n",
            "1563/1563 [==============================] - 8s 5ms/step - loss: 0.1695 - accuracy: 0.9552\n",
            "Epoch 60/70\n",
            "1563/1563 [==============================] - 8s 5ms/step - loss: 0.1578 - accuracy: 0.9598\n",
            "Epoch 61/70\n",
            "1563/1563 [==============================] - 7s 5ms/step - loss: 0.1449 - accuracy: 0.9643\n",
            "Epoch 62/70\n",
            "1563/1563 [==============================] - 8s 5ms/step - loss: 0.1362 - accuracy: 0.9666\n",
            "Epoch 63/70\n",
            "1563/1563 [==============================] - 8s 5ms/step - loss: 0.1273 - accuracy: 0.9699\n",
            "Epoch 64/70\n",
            "1563/1563 [==============================] - 8s 5ms/step - loss: 0.1176 - accuracy: 0.9722\n",
            "Epoch 65/70\n",
            "1563/1563 [==============================] - 8s 5ms/step - loss: 0.1075 - accuracy: 0.9772\n",
            "Epoch 66/70\n",
            "1563/1563 [==============================] - 7s 5ms/step - loss: 0.1034 - accuracy: 0.9773\n",
            "Epoch 67/70\n",
            "1563/1563 [==============================] - 8s 5ms/step - loss: 0.0951 - accuracy: 0.9800\n",
            "Epoch 68/70\n",
            "1563/1563 [==============================] - 8s 5ms/step - loss: 0.0869 - accuracy: 0.9824\n",
            "Epoch 69/70\n",
            "1563/1563 [==============================] - 7s 5ms/step - loss: 0.0803 - accuracy: 0.9846\n",
            "Epoch 70/70\n",
            "1563/1563 [==============================] - 8s 5ms/step - loss: 0.0746 - accuracy: 0.9859\n"
          ]
        },
        {
          "output_type": "execute_result",
          "data": {
            "text/plain": [
              "<keras.src.callbacks.History at 0x7901ab8e16f0>"
            ]
          },
          "metadata": {},
          "execution_count": 17
        }
      ]
    },
    {
      "cell_type": "code",
      "source": [
        "np.argmax(model.predict(X_test_scaled)[1])"
      ],
      "metadata": {
        "colab": {
          "base_uri": "https://localhost:8080/"
        },
        "id": "T7kyVt77oVIn",
        "outputId": "18d5deb6-66bc-4e2d-d067-104a3fe74347"
      },
      "execution_count": 18,
      "outputs": [
        {
          "output_type": "stream",
          "name": "stdout",
          "text": [
            "313/313 [==============================] - 1s 3ms/step\n"
          ]
        },
        {
          "output_type": "execute_result",
          "data": {
            "text/plain": [
              "8"
            ]
          },
          "metadata": {},
          "execution_count": 18
        }
      ]
    },
    {
      "cell_type": "code",
      "source": [
        "model.evaluate(X_test_scaled,y_test_categorical)"
      ],
      "metadata": {
        "colab": {
          "base_uri": "https://localhost:8080/"
        },
        "id": "rc1XNroTyg2e",
        "outputId": "440ead1d-f0cf-45d1-aee8-47aa87f6d91d"
      },
      "execution_count": 20,
      "outputs": [
        {
          "output_type": "stream",
          "name": "stdout",
          "text": [
            "313/313 [==============================] - 1s 3ms/step - loss: 1.8916 - accuracy: 0.5677\n"
          ]
        },
        {
          "output_type": "execute_result",
          "data": {
            "text/plain": [
              "[1.8916144371032715, 0.5677000284194946]"
            ]
          },
          "metadata": {},
          "execution_count": 20
        }
      ]
    },
    {
      "cell_type": "code",
      "source": [
        "classes[y_test[1][0]]"
      ],
      "metadata": {
        "colab": {
          "base_uri": "https://localhost:8080/",
          "height": 35
        },
        "id": "hxz4oSUhytat",
        "outputId": "50500efa-0162-443c-8537-aec082ccf1e1"
      },
      "execution_count": 21,
      "outputs": [
        {
          "output_type": "execute_result",
          "data": {
            "text/plain": [
              "'ship'"
            ],
            "application/vnd.google.colaboratory.intrinsic+json": {
              "type": "string"
            }
          },
          "metadata": {},
          "execution_count": 21
        }
      ]
    },
    {
      "cell_type": "code",
      "source": [
        "def get_model():\n",
        "  model=keras.Sequential([\n",
        "    keras.layers.Flatten(input_shape=(32,32,3)),\n",
        "    keras.layers.Dense(3000,activation='relu'),\n",
        "    keras.layers.Dense(1000,activation='relu'),\n",
        "    keras.layers.Dense(10, activation='sigmoid')#sigmoid is good with clssification if not specify then it use Linear\n",
        "])\n",
        "\n",
        "  model.compile(optimizer='SGD' , loss='categorical_crossentropy',\n",
        "              metrics=['accuracy'])\n",
        "  return model"
      ],
      "metadata": {
        "id": "3Aei3gxj4jKS"
      },
      "execution_count": 26,
      "outputs": []
    },
    {
      "cell_type": "code",
      "source": [
        "%%timeit -n1 -r1\n",
        "with tf.device('/CPU:0'):\n",
        "    cpu_model = get_model()\n",
        "    cpu_model.fit(X_train_scaled, y_train_categorical, epochs=1)"
      ],
      "metadata": {
        "colab": {
          "base_uri": "https://localhost:8080/"
        },
        "id": "eNZd4bMk8Hql",
        "outputId": "0f9f949b-a78b-49f1-f800-89a6f6bdbb48"
      },
      "execution_count": 27,
      "outputs": [
        {
          "output_type": "stream",
          "name": "stdout",
          "text": [
            "1563/1563 [==============================] - 124s 79ms/step - loss: 1.8147 - accuracy: 0.3523\n",
            "2min 5s ± 0 ns per loop (mean ± std. dev. of 1 run, 1 loop each)\n"
          ]
        }
      ]
    },
    {
      "cell_type": "code",
      "source": [
        "%%timeit -n1 -r1\n",
        "with tf.device('/GPU:0'):\n",
        "    cpu_model = get_model()\n",
        "    cpu_model.fit(X_train_scaled, y_train_categorical, epochs=1)"
      ],
      "metadata": {
        "colab": {
          "base_uri": "https://localhost:8080/"
        },
        "id": "FUOEgIQa8ip6",
        "outputId": "f18e1848-c2e0-4e2d-86b2-092dfa328119"
      },
      "execution_count": 28,
      "outputs": [
        {
          "output_type": "stream",
          "name": "stdout",
          "text": [
            "1563/1563 [==============================] - 8s 5ms/step - loss: 1.8178 - accuracy: 0.3537\n",
            "14.1 s ± 0 ns per loop (mean ± std. dev. of 1 run, 1 loop each)\n"
          ]
        }
      ]
    },
    {
      "cell_type": "code",
      "source": [],
      "metadata": {
        "id": "Wf5vhpRe9bqd"
      },
      "execution_count": null,
      "outputs": []
    }
  ]
}